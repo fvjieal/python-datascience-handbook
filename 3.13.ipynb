{
 "cells": [
  {
   "cell_type": "code",
   "execution_count": 1,
   "metadata": {},
   "outputs": [
    {
     "name": "stdout",
     "output_type": "stream",
     "text": [
      "3.62 ms ± 115 µs per loop (mean ± std. dev. of 7 runs, 100 loops each)\n"
     ]
    }
   ],
   "source": [
    "import numpy as np\n",
    "rng = np.random.RandomState(42)\n",
    "x = rng.rand(1000000)\n",
    "y = rng.rand(1000000)\n",
    "%timeit x + y"
   ]
  },
  {
   "cell_type": "code",
   "execution_count": 2,
   "metadata": {},
   "outputs": [
    {
     "name": "stdout",
     "output_type": "stream",
     "text": [
      "190 ms ± 1.5 ms per loop (mean ± std. dev. of 7 runs, 1 loop each)\n"
     ]
    }
   ],
   "source": [
    "%timeit np.fromiter((xi + yi for xi, yi in zip(x, y)), dtype=x.dtype, count=len(x))"
   ]
  },
  {
   "cell_type": "code",
   "execution_count": 3,
   "metadata": {},
   "outputs": [],
   "source": [
    "mask = (x > 0.5) & (y < 0.5)"
   ]
  },
  {
   "cell_type": "code",
   "execution_count": 5,
   "metadata": {},
   "outputs": [],
   "source": [
    "tmp1 = (x > 0.5)\n",
    "tmp2 = (y < 0.5)\n",
    "mask = tmp1 & tmp2"
   ]
  },
  {
   "cell_type": "code",
   "execution_count": 6,
   "metadata": {},
   "outputs": [
    {
     "data": {
      "text/plain": [
       "True"
      ]
     },
     "execution_count": 6,
     "metadata": {},
     "output_type": "execute_result"
    }
   ],
   "source": [
    "import numexpr\n",
    "mask_numexpr = numexpr.evaluate('(x > 0.5) & (y < 0.5)')\n",
    "np.allclose(mask, mask_numexpr)"
   ]
  },
  {
   "cell_type": "code",
   "execution_count": 11,
   "metadata": {},
   "outputs": [],
   "source": [
    "import pandas as pd\n",
    "nrows, ncols = 100000, 100\n",
    "rng = np.random.RandomState(42)\n",
    "df1, df2, df3, df4 = (pd.DataFrame(rng.rand(nrows, ncols)) \n",
    "                      for i in range(4))"
   ]
  },
  {
   "cell_type": "code",
   "execution_count": 12,
   "metadata": {},
   "outputs": [
    {
     "name": "stdout",
     "output_type": "stream",
     "text": [
      "94.5 ms ± 2.36 ms per loop (mean ± std. dev. of 7 runs, 10 loops each)\n"
     ]
    }
   ],
   "source": [
    "%timeit df1 + df2 + df3 + df4"
   ]
  },
  {
   "cell_type": "code",
   "execution_count": 13,
   "metadata": {},
   "outputs": [
    {
     "name": "stdout",
     "output_type": "stream",
     "text": [
      "43.2 ms ± 1 ms per loop (mean ± std. dev. of 7 runs, 10 loops each)\n"
     ]
    }
   ],
   "source": [
    "%timeit pd.eval('df1 + df2 + df3 + df4')"
   ]
  },
  {
   "cell_type": "code",
   "execution_count": 14,
   "metadata": {},
   "outputs": [
    {
     "data": {
      "text/plain": [
       "True"
      ]
     },
     "execution_count": 14,
     "metadata": {},
     "output_type": "execute_result"
    }
   ],
   "source": [
    "np.allclose(df1 + df2 + df3 + df4, \n",
    "            pd.eval('df1 + df2 + df3 + df4'))"
   ]
  },
  {
   "cell_type": "code",
   "execution_count": 16,
   "metadata": {},
   "outputs": [],
   "source": [
    "df1, df2, df3, df4, df5 = (pd.DataFrame(rng.randint(0, 1000, (100, 3))) for i in range(5))"
   ]
  },
  {
   "cell_type": "code",
   "execution_count": 21,
   "metadata": {},
   "outputs": [
    {
     "ename": "SyntaxError",
     "evalue": "EOL while scanning string literal (<ipython-input-21-54f98eba713f>, line 1)",
     "output_type": "error",
     "traceback": [
      "\u001b[1;36m  File \u001b[1;32m\"<ipython-input-21-54f98eba713f>\"\u001b[1;36m, line \u001b[1;32m1\u001b[0m\n\u001b[1;33m    result1 = -df1 * df2 / (df3 + df4) - df5'\u001b[0m\n\u001b[1;37m                                             ^\u001b[0m\n\u001b[1;31mSyntaxError\u001b[0m\u001b[1;31m:\u001b[0m EOL while scanning string literal\n"
     ]
    }
   ],
   "source": [
    "result1 = -df1 * df2 / (df3 + df4) - df5'\n",
    "result2 = pd.eval('-df1 * df2 / (df3 + df4) - df5')\n",
    "                  np.allclose(result1, result2)"
   ]
  },
  {
   "cell_type": "code",
   "execution_count": 22,
   "metadata": {},
   "outputs": [
    {
     "data": {
      "text/plain": [
       "True"
      ]
     },
     "execution_count": 22,
     "metadata": {},
     "output_type": "execute_result"
    }
   ],
   "source": [
    "result1 = (df1 < df2) & (df2 <= df3) & (df3 != df4)\n",
    "result2 =pd.eval('df1 < df2 <= df3 !=df4')\n",
    "np.allclose(result1, result2)"
   ]
  },
  {
   "cell_type": "code",
   "execution_count": 24,
   "metadata": {},
   "outputs": [
    {
     "data": {
      "text/plain": [
       "True"
      ]
     },
     "execution_count": 24,
     "metadata": {},
     "output_type": "execute_result"
    }
   ],
   "source": [
    "result1 = (df1 < 0.5) & (df2 < 0.5) | (df3 < df4)\n",
    "result2 = pd.eval('(df1 < 0.5) & (df2 < 0.5) | (df3 < df4)')\n",
    "np.allclose(result1, result2)"
   ]
  },
  {
   "cell_type": "code",
   "execution_count": 29,
   "metadata": {},
   "outputs": [
    {
     "data": {
      "text/plain": [
       "True"
      ]
     },
     "execution_count": 29,
     "metadata": {},
     "output_type": "execute_result"
    }
   ],
   "source": [
    "result3 = pd.eval('(df1 < 0.5) and (df2 < 0.5) or (df3 < df4)')\n",
    "np.allclose(result1, result3)"
   ]
  },
  {
   "cell_type": "code",
   "execution_count": 31,
   "metadata": {},
   "outputs": [
    {
     "data": {
      "text/plain": [
       "True"
      ]
     },
     "execution_count": 31,
     "metadata": {},
     "output_type": "execute_result"
    }
   ],
   "source": [
    "result1 = df2.T[0] + df3.iloc[1]\n",
    "result2 = pd.eval('df2.T[0] + df3.iloc[1]')\n",
    "np.allclose(result1, result2)"
   ]
  },
  {
   "cell_type": "code",
   "execution_count": 32,
   "metadata": {},
   "outputs": [
    {
     "data": {
      "text/html": [
       "<div>\n",
       "<style scoped>\n",
       "    .dataframe tbody tr th:only-of-type {\n",
       "        vertical-align: middle;\n",
       "    }\n",
       "\n",
       "    .dataframe tbody tr th {\n",
       "        vertical-align: top;\n",
       "    }\n",
       "\n",
       "    .dataframe thead th {\n",
       "        text-align: right;\n",
       "    }\n",
       "</style>\n",
       "<table border=\"1\" class=\"dataframe\">\n",
       "  <thead>\n",
       "    <tr style=\"text-align: right;\">\n",
       "      <th></th>\n",
       "      <th>A</th>\n",
       "      <th>B</th>\n",
       "      <th>C</th>\n",
       "    </tr>\n",
       "  </thead>\n",
       "  <tbody>\n",
       "    <tr>\n",
       "      <th>0</th>\n",
       "      <td>0.375506</td>\n",
       "      <td>0.406939</td>\n",
       "      <td>0.069938</td>\n",
       "    </tr>\n",
       "    <tr>\n",
       "      <th>1</th>\n",
       "      <td>0.069087</td>\n",
       "      <td>0.235615</td>\n",
       "      <td>0.154374</td>\n",
       "    </tr>\n",
       "    <tr>\n",
       "      <th>2</th>\n",
       "      <td>0.677945</td>\n",
       "      <td>0.433839</td>\n",
       "      <td>0.652324</td>\n",
       "    </tr>\n",
       "    <tr>\n",
       "      <th>3</th>\n",
       "      <td>0.264038</td>\n",
       "      <td>0.808055</td>\n",
       "      <td>0.347197</td>\n",
       "    </tr>\n",
       "    <tr>\n",
       "      <th>4</th>\n",
       "      <td>0.589161</td>\n",
       "      <td>0.252418</td>\n",
       "      <td>0.557789</td>\n",
       "    </tr>\n",
       "  </tbody>\n",
       "</table>\n",
       "</div>"
      ],
      "text/plain": [
       "          A         B         C\n",
       "0  0.375506  0.406939  0.069938\n",
       "1  0.069087  0.235615  0.154374\n",
       "2  0.677945  0.433839  0.652324\n",
       "3  0.264038  0.808055  0.347197\n",
       "4  0.589161  0.252418  0.557789"
      ]
     },
     "execution_count": 32,
     "metadata": {},
     "output_type": "execute_result"
    }
   ],
   "source": [
    "df = pd.DataFrame(rng.rand(1000, 3), columns=['A', 'B', 'C'])\n",
    "df.head()"
   ]
  },
  {
   "cell_type": "code",
   "execution_count": 36,
   "metadata": {},
   "outputs": [
    {
     "data": {
      "text/plain": [
       "True"
      ]
     },
     "execution_count": 36,
     "metadata": {},
     "output_type": "execute_result"
    }
   ],
   "source": [
    "result1 = (df['A'] + df['B']) / (df['C'] - 1)\n",
    "result2 = pd.eval('(df.A + df.B) / (df.C - 1)')\n",
    "np.allclose(result1, result2)"
   ]
  },
  {
   "cell_type": "code",
   "execution_count": 37,
   "metadata": {},
   "outputs": [
    {
     "data": {
      "text/plain": [
       "True"
      ]
     },
     "execution_count": 37,
     "metadata": {},
     "output_type": "execute_result"
    }
   ],
   "source": [
    "result3 = df.eval('(A + B) / (C - 1)')\n",
    "np.allclose(result1, result3)"
   ]
  },
  {
   "cell_type": "code",
   "execution_count": 38,
   "metadata": {},
   "outputs": [
    {
     "data": {
      "text/html": [
       "<div>\n",
       "<style scoped>\n",
       "    .dataframe tbody tr th:only-of-type {\n",
       "        vertical-align: middle;\n",
       "    }\n",
       "\n",
       "    .dataframe tbody tr th {\n",
       "        vertical-align: top;\n",
       "    }\n",
       "\n",
       "    .dataframe thead th {\n",
       "        text-align: right;\n",
       "    }\n",
       "</style>\n",
       "<table border=\"1\" class=\"dataframe\">\n",
       "  <thead>\n",
       "    <tr style=\"text-align: right;\">\n",
       "      <th></th>\n",
       "      <th>A</th>\n",
       "      <th>B</th>\n",
       "      <th>C</th>\n",
       "    </tr>\n",
       "  </thead>\n",
       "  <tbody>\n",
       "    <tr>\n",
       "      <th>0</th>\n",
       "      <td>0.375506</td>\n",
       "      <td>0.406939</td>\n",
       "      <td>0.069938</td>\n",
       "    </tr>\n",
       "    <tr>\n",
       "      <th>1</th>\n",
       "      <td>0.069087</td>\n",
       "      <td>0.235615</td>\n",
       "      <td>0.154374</td>\n",
       "    </tr>\n",
       "    <tr>\n",
       "      <th>2</th>\n",
       "      <td>0.677945</td>\n",
       "      <td>0.433839</td>\n",
       "      <td>0.652324</td>\n",
       "    </tr>\n",
       "    <tr>\n",
       "      <th>3</th>\n",
       "      <td>0.264038</td>\n",
       "      <td>0.808055</td>\n",
       "      <td>0.347197</td>\n",
       "    </tr>\n",
       "    <tr>\n",
       "      <th>4</th>\n",
       "      <td>0.589161</td>\n",
       "      <td>0.252418</td>\n",
       "      <td>0.557789</td>\n",
       "    </tr>\n",
       "  </tbody>\n",
       "</table>\n",
       "</div>"
      ],
      "text/plain": [
       "          A         B         C\n",
       "0  0.375506  0.406939  0.069938\n",
       "1  0.069087  0.235615  0.154374\n",
       "2  0.677945  0.433839  0.652324\n",
       "3  0.264038  0.808055  0.347197\n",
       "4  0.589161  0.252418  0.557789"
      ]
     },
     "execution_count": 38,
     "metadata": {},
     "output_type": "execute_result"
    }
   ],
   "source": [
    "df.head()"
   ]
  },
  {
   "cell_type": "code",
   "execution_count": 39,
   "metadata": {},
   "outputs": [
    {
     "data": {
      "text/plain": [
       "<bound method NDFrame.head of             A         B         C          D\n",
       "0    0.375506  0.406939  0.069938  11.187620\n",
       "1    0.069087  0.235615  0.154374   1.973796\n",
       "2    0.677945  0.433839  0.652324   1.704344\n",
       "3    0.264038  0.808055  0.347197   3.087857\n",
       "4    0.589161  0.252418  0.557789   1.508776\n",
       "5    0.573154  0.330581  0.144122   6.270634\n",
       "6    0.210102  0.518596  0.569152   1.280322\n",
       "7    0.406639  0.128631  0.160742   3.329994\n",
       "8    0.020236  0.354904  0.067919   5.523342\n",
       "9    0.784161  0.937668  0.490879   3.507645\n",
       "10   0.932656  0.137548  0.248736   4.302567\n",
       "11   0.084158  0.546133  0.235618   2.675060\n",
       "12   0.362698  0.950754  0.274655   4.782188\n",
       "13   0.058095  0.771863  0.915946   0.906121\n",
       "14   0.643400  0.234982  0.655226   1.340579\n",
       "15   0.967865  0.277742  0.987892   1.260874\n",
       "16   0.110796  0.100477  0.561988   0.375939\n",
       "17   0.707902  0.781147  0.479950   3.102509\n",
       "18   0.502528  0.031194  0.878520   0.607524\n",
       "19   0.921240  0.987053  0.609404   3.131411\n",
       "20   0.576883  0.729118  0.431805   3.024512\n",
       "21   0.897908  0.111918  0.119699   8.436374\n",
       "22   0.912860  0.775162  0.202685   8.328301\n",
       "23   0.952167  0.864614  0.580076   3.131968\n",
       "24   0.168256  0.741320  0.660201   1.377726\n",
       "25   0.861464  0.767712  0.845803   1.926187\n",
       "26   0.426630  0.353436  0.431680   1.807049\n",
       "27   0.021712  0.506511  0.887708   0.595042\n",
       "28   0.691361  0.763330  0.287032   5.068040\n",
       "29   0.593754  0.314066  0.559177   1.623493\n",
       "..        ...       ...       ...        ...\n",
       "970  0.654498  0.557631  0.626098   1.936005\n",
       "971  0.410917  0.261874  0.660639   1.018396\n",
       "972  0.922854  0.737672  0.578985   2.867996\n",
       "973  0.447459  0.805157  0.153914   8.138409\n",
       "974  0.775839  0.175786  0.901625   1.055456\n",
       "975  0.389208  0.029318  0.790337   0.529552\n",
       "976  0.119257  0.016513  0.518495   0.261854\n",
       "977  0.361264  0.217931  0.538535   1.075500\n",
       "978  0.377582  0.000829  0.581793   0.650421\n",
       "979  0.655856  0.976856  0.963363   1.694805\n",
       "980  0.746507  0.816330  0.609356   2.564735\n",
       "981  0.622553  0.906804  0.189609   8.065861\n",
       "982  0.457239  0.278989  0.996565   0.738767\n",
       "983  0.721925  0.978439  0.939170   1.810497\n",
       "984  0.154935  0.096410  0.795801   0.315839\n",
       "985  0.126921  0.443428  0.859320   0.663721\n",
       "986  0.256412  0.776488  0.408120   2.530872\n",
       "987  0.656084  0.335239  0.743248   1.333772\n",
       "988  0.381958  0.058112  0.917827   0.479469\n",
       "989  0.806979  0.077630  0.693171   1.276178\n",
       "990  0.765099  0.747568  0.278197   5.437400\n",
       "991  0.265972  0.965123  0.689524   1.785428\n",
       "992  0.441843  0.838942  0.219113   5.845327\n",
       "993  0.927922  0.693555  0.580373   2.793856\n",
       "994  0.132644  0.472306  0.778643   0.776928\n",
       "995  0.082646  0.036840  0.439733   0.271723\n",
       "996  0.008826  0.896578  0.723374   1.251641\n",
       "997  0.907270  0.916424  0.978655   1.863469\n",
       "998  0.758995  0.535431  0.347766   3.722122\n",
       "999  0.369260  0.753815  0.280455   4.004473\n",
       "\n",
       "[1000 rows x 4 columns]>"
      ]
     },
     "execution_count": 39,
     "metadata": {},
     "output_type": "execute_result"
    }
   ],
   "source": [
    "df.eval('D = (A + B) / C', inplace=True)\n",
    "df.head"
   ]
  },
  {
   "cell_type": "code",
   "execution_count": 40,
   "metadata": {},
   "outputs": [
    {
     "data": {
      "text/plain": [
       "<bound method NDFrame.head of             A         B         C         D\n",
       "0    0.375506  0.406939  0.069938 -0.449425\n",
       "1    0.069087  0.235615  0.154374 -1.078728\n",
       "2    0.677945  0.433839  0.652324  0.374209\n",
       "3    0.264038  0.808055  0.347197 -1.566886\n",
       "4    0.589161  0.252418  0.557789  0.603708\n",
       "5    0.573154  0.330581  0.144122  1.683117\n",
       "6    0.210102  0.518596  0.569152 -0.542023\n",
       "7    0.406639  0.128631  0.160742  1.729526\n",
       "8    0.020236  0.354904  0.067919 -4.927445\n",
       "9    0.784161  0.937668  0.490879 -0.312719\n",
       "10   0.932656  0.137548  0.248736  3.196594\n",
       "11   0.084158  0.546133  0.235618 -1.960695\n",
       "12   0.362698  0.950754  0.274655 -2.141074\n",
       "13   0.058095  0.771863  0.915946 -0.779269\n",
       "14   0.643400  0.234982  0.655226  0.623324\n",
       "15   0.967865  0.277742  0.987892  0.698581\n",
       "16   0.110796  0.100477  0.561988  0.018362\n",
       "17   0.707902  0.781147  0.479950 -0.152609\n",
       "18   0.502528  0.031194  0.878520  0.536510\n",
       "19   0.921240  0.987053  0.609404 -0.107996\n",
       "20   0.576883  0.729118  0.431805 -0.352555\n",
       "21   0.897908  0.111918  0.119699  6.566386\n",
       "22   0.912860  0.775162  0.202685  0.679371\n",
       "23   0.952167  0.864614  0.580076  0.150934\n",
       "24   0.168256  0.741320  0.660201 -0.868014\n",
       "25   0.861464  0.767712  0.845803  0.110843\n",
       "26   0.426630  0.353436  0.431680  0.169556\n",
       "27   0.021712  0.506511  0.887708 -0.546124\n",
       "28   0.691361  0.763330  0.287032 -0.250735\n",
       "29   0.593754  0.314066  0.559177  0.500177\n",
       "..        ...       ...       ...       ...\n",
       "970  0.654498  0.557631  0.626098  0.154717\n",
       "971  0.410917  0.261874  0.660639  0.225604\n",
       "972  0.922854  0.737672  0.578985  0.319838\n",
       "973  0.447459  0.805157  0.153914 -2.324012\n",
       "974  0.775839  0.175786  0.901625  0.665525\n",
       "975  0.389208  0.029318  0.790337  0.455363\n",
       "976  0.119257  0.016513  0.518495  0.198157\n",
       "977  0.361264  0.217931  0.538535  0.266154\n",
       "978  0.377582  0.000829  0.581793  0.647572\n",
       "979  0.655856  0.976856  0.963363 -0.333207\n",
       "980  0.746507  0.816330  0.609356 -0.114584\n",
       "981  0.622553  0.906804  0.189609 -1.499143\n",
       "982  0.457239  0.278989  0.996565  0.178864\n",
       "983  0.721925  0.978439  0.939170 -0.273129\n",
       "984  0.154935  0.096410  0.795801  0.073542\n",
       "985  0.126921  0.443428  0.859320 -0.368322\n",
       "986  0.256412  0.776488  0.408120 -1.274323\n",
       "987  0.656084  0.335239  0.743248  0.431679\n",
       "988  0.381958  0.058112  0.917827  0.352839\n",
       "989  0.806979  0.077630  0.693171  1.052192\n",
       "990  0.765099  0.747568  0.278197  0.063018\n",
       "991  0.265972  0.965123  0.689524 -1.013963\n",
       "992  0.441843  0.838942  0.219113 -1.812303\n",
       "993  0.927922  0.693555  0.580373  0.403821\n",
       "994  0.132644  0.472306  0.778643 -0.436223\n",
       "995  0.082646  0.036840  0.439733  0.104169\n",
       "996  0.008826  0.896578  0.723374 -1.227237\n",
       "997  0.907270  0.916424  0.978655 -0.009353\n",
       "998  0.758995  0.535431  0.347766  0.642860\n",
       "999  0.369260  0.753815  0.280455 -1.371181\n",
       "\n",
       "[1000 rows x 4 columns]>"
      ]
     },
     "execution_count": 40,
     "metadata": {},
     "output_type": "execute_result"
    }
   ],
   "source": [
    "df.eval('D = (A - B) / C', inplace=True)\n",
    "df.head"
   ]
  },
  {
   "cell_type": "code",
   "execution_count": 41,
   "metadata": {},
   "outputs": [
    {
     "data": {
      "text/plain": [
       "True"
      ]
     },
     "execution_count": 41,
     "metadata": {},
     "output_type": "execute_result"
    }
   ],
   "source": [
    "column_mean = df.mean(1)\n",
    "result1 = df['A'] + column_mean\n",
    "result2 = df.eval('A + @column_mean')\n",
    "np.allclose(result1, result2)"
   ]
  },
  {
   "cell_type": "code",
   "execution_count": 42,
   "metadata": {},
   "outputs": [
    {
     "data": {
      "text/plain": [
       "True"
      ]
     },
     "execution_count": 42,
     "metadata": {},
     "output_type": "execute_result"
    }
   ],
   "source": [
    "result1 = df[(df.A < 0.5) & (df.B < 0.5)]\n",
    "result2 = pd.eval('df[(df.A < 0.5) & (df.B < 0.5)]')\n",
    "np.allclose(result1, result2)"
   ]
  },
  {
   "cell_type": "code",
   "execution_count": 43,
   "metadata": {},
   "outputs": [
    {
     "data": {
      "text/plain": [
       "True"
      ]
     },
     "execution_count": 43,
     "metadata": {},
     "output_type": "execute_result"
    }
   ],
   "source": [
    "reult2 = df.query('A < 0.5 and B < 0.5')\n",
    "np.allclose(result1, result2)"
   ]
  },
  {
   "cell_type": "code",
   "execution_count": 44,
   "metadata": {},
   "outputs": [
    {
     "data": {
      "text/plain": [
       "True"
      ]
     },
     "execution_count": 44,
     "metadata": {},
     "output_type": "execute_result"
    }
   ],
   "source": [
    "Cmean =df['C'].mean()\n",
    "result1 = df[(df.A < Cmean) & (df.B < Cmean)]\n",
    "result2 = df.query('A < @Cmean and B < @Cmean')\n",
    "np.allclose(result1, result2)"
   ]
  },
  {
   "cell_type": "code",
   "execution_count": null,
   "metadata": {},
   "outputs": [],
   "source": []
  }
 ],
 "metadata": {
  "kernelspec": {
   "display_name": "Python 3",
   "language": "python",
   "name": "python3"
  },
  "language_info": {
   "codemirror_mode": {
    "name": "ipython",
    "version": 3
   },
   "file_extension": ".py",
   "mimetype": "text/x-python",
   "name": "python",
   "nbconvert_exporter": "python",
   "pygments_lexer": "ipython3",
   "version": "3.6.4"
  }
 },
 "nbformat": 4,
 "nbformat_minor": 2
}
